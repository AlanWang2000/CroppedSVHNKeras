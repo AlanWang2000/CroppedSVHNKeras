{
  "nbformat": 4,
  "nbformat_minor": 0,
  "metadata": {
    "colab": {
      "name": "SUBMISSION.ipynb",
      "version": "0.3.2",
      "provenance": [],
      "collapsed_sections": []
    },
    "kernelspec": {
      "name": "python3",
      "display_name": "Python 3"
    },
    "accelerator": "GPU"
  },
  "cells": [
    {
      "metadata": {
        "id": "Dh4TDX2uAXvG",
        "colab_type": "text"
      },
      "cell_type": "markdown",
      "source": [
        "# Street View House Numbers Classification\n",
        "\n"
      ]
    },
    {
      "metadata": {
        "id": "ep9pKL4_428R",
        "colab_type": "text"
      },
      "cell_type": "markdown",
      "source": [
        "IMPORTANT:\n",
        "To train and test the model, run everything in order except for the last cell (I mean you can run it too but then it wouldn't do anything).\n",
        "\n",
        "To load a pretrained model, run the first cell, then the second cell, the last cell and then the second last cell."
      ]
    },
    {
      "metadata": {
        "id": "ICEnZLN_Tj4N",
        "colab_type": "text"
      },
      "cell_type": "markdown",
      "source": [
        "init"
      ]
    },
    {
      "metadata": {
        "id": "qA7zos6Vz2BF",
        "colab_type": "code",
        "outputId": "5499f219-5faa-4fca-85d7-943c6d824a73",
        "colab": {
          "base_uri": "https://localhost:8080/",
          "height": 1194
        }
      },
      "cell_type": "code",
      "source": [
        "# let's just choose to import all we need at the start\n",
        "# this keeps the code below neater\n",
        "from collections import Counter\n",
        "import random\n",
        "import numpy as np\n",
        "import scipy.io\n",
        "import matplotlib.pyplot as plt\n",
        "from keras.utils import multi_gpu_model\n",
        "%matplotlib inline\n",
        "\n",
        "import keras\n",
        "from keras.models import Sequential\n",
        "from keras.layers import *\n",
        "from keras.utils import to_categorical\n",
        "import sklearn.model_selection\n",
        "#specify the seed to prevent randomness\n",
        "from numpy.random import seed\n",
        "seed(1)\n",
        "from tensorflow import set_random_seed\n",
        "set_random_seed(2)\n",
        "# Use Python to download the dataset\n",
        "# (also on Kaggle at https://www.kaggle.com/victorythang113/street-view-house-number)\n",
        "train_mat_pta = keras.utils.get_file(\"train_32x32_a.mat\", \"https://s3-ap-southeast-1.amazonaws.com/deeplearning-iap-material/train_32x32.mat\")\n",
        "train_mat_ptb = keras.utils.get_file(\"train_32x32_b.mat\", \"http://ufldl.stanford.edu/housenumbers/extra_32x32.mat\")\n",
        "test_mat = keras.utils.get_file(\"test_32x32.mat\", \"https://s3-ap-southeast-1.amazonaws.com/deeplearning-iap-material/test_32x32.mat\")\n",
        "#train_mat = keras.utils.get_file(\"train_32x32_a.mat\", \"https://s3-ap-southeast-1.amazonaws.com/deeplearning-iap-material/train_32x32.mat\")\n",
        "#print(\"Train set present at\", train_mat)\n",
        "print(\"Test set present at\", test_mat)\n",
        "train_array1 = scipy.io.loadmat(train_mat_pta)\n",
        "train_array2 = scipy.io.loadmat(train_mat_ptb)\n",
        "num_images1 = train_array1[\"X\"].shape[-1]\n",
        "num_images2 = train_array2[\"X\"].shape[-1]\n",
        "train_array = train_array1\n",
        "train_array[\"y\"] = np.concatenate((train_array1[\"y\"],train_array2[\"y\"]))\n",
        "train_array[\"X\"] = np.concatenate((train_array1[\"X\"],train_array2[\"X\"]),axis = 3)\n",
        "#train_array = scipy.io.loadmat(train_mat)\n",
        "print(\"Imported object is a\", type(train_array))\n",
        "print(train_array.keys())\n",
        "\n",
        "print(\"Train set has the following shape:\")\n",
        "print(train_array[\"X\"].shape, train_array[\"y\"].shape)\n",
        "\n",
        "\n",
        "num_images = train_array[\"X\"].shape[-1]\n",
        "\n",
        "plt.figure(1, figsize=(10,10))\n",
        "\n",
        "for i in range(9):\n",
        "    n = random.randint(0, num_images-1) # pick a random image\n",
        "    plt.subplot(3,3,i+1)\n",
        "    image = train_array[\"X\"][:,:,:,n].reshape((32,32,3))\n",
        "    plt.imshow(image)\n",
        "    plt.title(\"Class {}\".format(train_array[\"y\"][n]))\n",
        "    \n",
        "plt.show()\n",
        "\n",
        "# we need to reshape the imported data to use it with Keras\n",
        "\n",
        "list_labels = train_array[\"y\"].reshape((num_images))\n",
        "list_images = []\n",
        "\n",
        "for i in range(num_images):\n",
        "    image = train_array[\"X\"][:,:,:,i].reshape((32,32,3))\n",
        "    list_images.append(image)\n",
        "    \n",
        "list_labels = np.asarray(list_labels, dtype='int32')\n",
        "list_images = np.asarray(list_images)\n",
        "\n",
        "list_images.shape\n",
        "\n",
        "classes = list(set(list_labels))\n",
        "num_classes = len(classes)\n",
        "print(num_classes, \"unique classes:\", classes)\n",
        "\n",
        "X_train, X_val, y_train, y_val = sklearn.model_selection.train_test_split(list_images, list_labels, test_size=0.2)\n",
        "\n",
        "plt.figure(2)\n",
        "n = random.randint(0, len(y_train))\n",
        "plt.imshow(X_train[n])\n",
        "plt.title(y_train[n])\n",
        "plt.show()\n",
        "\n",
        "y_train = to_categorical(y_train)\n",
        "y_val = to_categorical(y_val)\n",
        "\n",
        "print(\"y_train.shape\", y_train.shape)\n",
        "print(\"y_val.shape\", y_val.shape)\n",
        "\n",
        "to_categorical(np.array([1, 2, 3, 4, 5, 6, 7, 8, 9, 10]))"
      ],
      "execution_count": 1,
      "outputs": [
        {
          "output_type": "stream",
          "text": [
            "Using TensorFlow backend.\n"
          ],
          "name": "stderr"
        },
        {
          "output_type": "stream",
          "text": [
            "Test set present at /home/wanderlynx1/.keras/datasets/test_32x32.mat\n",
            "Imported object is a <class 'dict'>\n",
            "dict_keys(['X', '__header__', 'y', '__version__', '__globals__'])\n",
            "Train set has the following shape:\n",
            "(32, 32, 3, 604388) (604388, 1)\n"
          ],
          "name": "stdout"
        },
        {
          "output_type": "display_data",
          "data": {
            "text/plain": [
              "<Figure size 720x720 with 9 Axes>"
            ],
            "image/png": "[encoded data removed]"
          },
          "metadata": {
            "tags": []
          }
        },
        {
          "output_type": "stream",
          "text": [
            "10 unique classes: [1, 2, 3, 4, 5, 6, 7, 8, 9, 10]\n"
          ],
          "name": "stdout"
        },
        {
          "output_type": "display_data",
          "data": {
            "text/plain": [
              "<Figure size 432x288 with 1 Axes>"
            ],
            "image/png": "[encoded data removed]"
          },
          "metadata": {
            "tags": []
          }
        },
        {
          "output_type": "stream",
          "text": [
            "y_train.shape (483510, 11)\n",
            "y_val.shape (120878, 11)\n"
          ],
          "name": "stdout"
        },
        {
          "output_type": "execute_result",
          "data": {
            "text/plain": [
              "array([[0., 1., 0., 0., 0., 0., 0., 0., 0., 0., 0.],\n",
              "       [0., 0., 1., 0., 0., 0., 0., 0., 0., 0., 0.],\n",
              "       [0., 0., 0., 1., 0., 0., 0., 0., 0., 0., 0.],\n",
              "       [0., 0., 0., 0., 1., 0., 0., 0., 0., 0., 0.],\n",
              "       [0., 0., 0., 0., 0., 1., 0., 0., 0., 0., 0.],\n",
              "       [0., 0., 0., 0., 0., 0., 1., 0., 0., 0., 0.],\n",
              "       [0., 0., 0., 0., 0., 0., 0., 1., 0., 0., 0.],\n",
              "       [0., 0., 0., 0., 0., 0., 0., 0., 1., 0., 0.],\n",
              "       [0., 0., 0., 0., 0., 0., 0., 0., 0., 1., 0.],\n",
              "       [0., 0., 0., 0., 0., 0., 0., 0., 0., 0., 1.]], dtype=float32)"
            ]
          },
          "metadata": {
            "tags": []
          },
          "execution_count": 1
        }
      ]
    },
    {
      "metadata": {
        "id": "CJDcm5grrCDk",
        "colab_type": "text"
      },
      "cell_type": "markdown",
      "source": [
        "# Build a CNN in Keras\n",
        "\n",
        "See also:\n",
        "\n",
        "*   [Convolutional filters in Keras](https://keras.io/layers/convolutional/)\n",
        "*   [Functional API](https://keras.io/getting-started/functional-api-guide/) (allows you to build more complex models)\n"
      ]
    },
    {
      "metadata": {
        "id": "x0XQsPPQrJi-",
        "colab_type": "code",
        "outputId": "0b3faa9c-019a-4b6c-a845-596a1047d88d",
        "colab": {
          "base_uri": "https://localhost:8080/",
          "height": 476
        }
      },
      "cell_type": "code",
      "source": [
        "from keras.layers import Conv2D, MaxPooling2D, Input, BatchNormalization\n",
        "from keras.models import Model\n",
        "\n",
        "input_img = Input(shape=(32, 32, 3))\n",
        "drop = 0.25\n",
        "#32x32\n",
        "\n",
        "xa1 = Conv2D(192, kernel_size=(1, 1), padding='same', activation='relu',)(input_img)\n",
        "xa1 = BatchNormalization()(xa1)\n",
        "xa2 = Conv2D(192, kernel_size=(3, 3), padding='same', activation='relu',)(input_img)\n",
        "xa2 = BatchNormalization()(xa2)\n",
        "xa3 = Conv2D(192, kernel_size=(5, 5), padding='same', activation='relu',)(input_img)\n",
        "xa3 = BatchNormalization()(xa3)\n",
        "xa4 = Conv2D(192, kernel_size=(7, 7), padding='same', activation='relu',)(input_img)\n",
        "xa4 = BatchNormalization()(xa4)\n",
        "xam = keras.layers.Maximum()([xa1,xa2,xa3,xa4])\n",
        "\n",
        "xb1 = Conv2D(160, kernel_size=(1, 1), padding='same', activation='relu',)(xam)\n",
        "xb1 = BatchNormalization()(xb1)\n",
        "xb2 = Conv2D(160, kernel_size=(3, 3), padding='same', activation='relu',)(xam)\n",
        "xb2 = BatchNormalization()(xb2)\n",
        "xbm = keras.layers.Maximum()([xb1,xb2])\n",
        "\n",
        "xc1 = Conv2D(96, kernel_size=(1, 1), padding='same', activation='relu')(xbm)\n",
        "xc1 = BatchNormalization()(xc1)\n",
        "xc2 = Conv2D(96, kernel_size=(3, 3), padding='same', activation='relu')(xbm)\n",
        "xc2 = BatchNormalization()(xc2)\n",
        "xcm = keras.layers.Maximum()([xc1,xc2])\n",
        "\n",
        "xp1 = MaxPooling2D(pool_size=(3, 3), strides=(2, 1), padding='same')(xcm)\n",
        "xd1 = Dropout(drop)(xp1)\n",
        "\n",
        "#16x32\n",
        "\n",
        "xaa1 = Conv2D(192, kernel_size=(1, 1), padding='same', activation='relu')(xd1)\n",
        "xaa1 = BatchNormalization()(xaa1)\n",
        "xaa2 = Conv2D(192, kernel_size=(3, 3), padding='same', activation='relu')(xd1)\n",
        "xaa2 = BatchNormalization()(xaa2)\n",
        "xaa3 = Conv2D(192, kernel_size=(5, 5), padding='same', activation='relu')(xd1)\n",
        "xaa3 = BatchNormalization()(xaa3)\n",
        "xaa4 = Conv2D(192, kernel_size=(7, 7), padding='same', activation='relu')(xd1)\n",
        "xaa4 = BatchNormalization()(xaa4)\n",
        "xaam = keras.layers.Maximum()([xaa1,xaa2,xaa3,xaa4])\n",
        "\n",
        "xbb1 = Conv2D(192, kernel_size=(1, 1), padding='same', activation='relu')(xaam)\n",
        "xbb1 = BatchNormalization()(xbb1)\n",
        "xbb2 = Conv2D(192, kernel_size=(3, 3), padding='same', activation='relu')(xaam)\n",
        "xbb2 = BatchNormalization()(xbb2)\n",
        "xbbm = keras.layers.Maximum()([xbb1,xbb2])\n",
        "\n",
        "xcc1 = Conv2D(192, kernel_size=(1, 1), padding='same', activation='relu')(xbbm)\n",
        "xcc1 = BatchNormalization()(xcc1)\n",
        "xcc2 = Conv2D(192, kernel_size=(3, 3), padding='same', activation='relu')(xbbm)\n",
        "xcc2 = BatchNormalization()(xcc2)\n",
        "xccm = keras.layers.Maximum()([xcc1,xcc2])\n",
        "\n",
        "xpp1 = MaxPooling2D(pool_size=(3, 3), strides=(1, 2), padding='same')(xccm)\n",
        "xdd1 = Dropout(drop)(xpp1)\n",
        "\n",
        "#16x16\n",
        "\n",
        "xaa1e = Conv2D(192, kernel_size=(1, 1), padding='same', activation='relu')(xdd1)\n",
        "xaa1e = BatchNormalization()(xaa1e)\n",
        "xaa2e = Conv2D(192, kernel_size=(3, 3), padding='same', activation='relu')(xdd1)\n",
        "xaa2e = BatchNormalization()(xaa2e)\n",
        "xaa3e = Conv2D(192, kernel_size=(5, 5), padding='same', activation='relu')(xdd1)\n",
        "xaa3e = BatchNormalization()(xaa3e)\n",
        "xaa4e = Conv2D(192, kernel_size=(7, 7), padding='same', activation='relu')(xdd1)\n",
        "xaa4e = BatchNormalization()(xaa4e)\n",
        "xaame = keras.layers.Maximum()([xaa1e,xaa2e,xaa3e,xaa4e])\n",
        "\n",
        "xbb1e = Conv2D(192, kernel_size=(1, 1), padding='same', activation='relu')(xaame)\n",
        "xbb1e = BatchNormalization()(xbb1e)\n",
        "xbb2e = Conv2D(192, kernel_size=(3, 3), padding='same', activation='relu')(xaame)\n",
        "xbb2e = BatchNormalization()(xbb2e)\n",
        "xbbme = keras.layers.Maximum()([xbb1e,xbb2e])\n",
        "\n",
        "xcc1e = Conv2D(192, kernel_size=(1, 1), padding='same', activation='relu')(xbbme)\n",
        "xcc1e = BatchNormalization()(xcc1e)\n",
        "xcc2e = Conv2D(192, kernel_size=(3, 3), padding='same', activation='relu')(xbbme)\n",
        "xcc2e = BatchNormalization()(xcc2e)\n",
        "xccme = keras.layers.Maximum()([xcc1e,xcc2e])\n",
        "\n",
        "xpp1e = MaxPooling2D(pool_size=(3, 3), strides=(2, 1), padding='same')(xccme)\n",
        "xdd1e = Dropout(drop)(xpp1e)\n",
        "\n",
        "#8x16\n",
        "\n",
        "xaa1ef = Conv2D(192, kernel_size=(1, 1), padding='same', activation='relu')(xdd1e)\n",
        "xaa1ef = BatchNormalization()(xaa1ef)\n",
        "xaa2ef = Conv2D(192, kernel_size=(3, 3), padding='same', activation='relu')(xdd1e)\n",
        "xaa2ef = BatchNormalization()(xaa2ef)\n",
        "xaa3ef = Conv2D(192, kernel_size=(5, 5), padding='same', activation='relu')(xdd1e)\n",
        "xaa3ef = BatchNormalization()(xaa3ef)\n",
        "xaa4ef = Conv2D(192, kernel_size=(7, 7), padding='same', activation='relu')(xdd1e)\n",
        "xaa4ef = BatchNormalization()(xaa4ef)\n",
        "xaamef = keras.layers.Maximum()([xaa1ef,xaa2ef,xaa3ef,xaa4ef])\n",
        "\n",
        "xbb1ef = Conv2D(192, kernel_size=(1, 1), padding='same', activation='relu')(xaamef)\n",
        "xbb1ef = BatchNormalization()(xbb1ef)\n",
        "xbb2ef = Conv2D(192, kernel_size=(3, 3), padding='same', activation='relu')(xaamef)\n",
        "xbb2ef = BatchNormalization()(xbb2ef)\n",
        "xbbmef = keras.layers.Maximum()([xbb1ef,xbb2ef])\n",
        "\n",
        "xcc1ef = Conv2D(192, kernel_size=(1, 1), padding='same', activation='relu')(xbbmef)\n",
        "xcc1ef = BatchNormalization()(xcc1ef)\n",
        "xcc2ef = Conv2D(192, kernel_size=(3, 3), padding='same', activation='relu')(xbbmef)\n",
        "xcc2ef = BatchNormalization()(xcc2ef)\n",
        "xccmef = keras.layers.Maximum()([xcc1ef,xcc2ef])\n",
        "\n",
        "xpp1ef = MaxPooling2D(pool_size=(3, 3), strides=(1, 2), padding='same')(xccmef)\n",
        "xdd1ef = Dropout(drop)(xpp1ef)\n",
        "\n",
        "#8x8\n",
        "\n",
        "xaa1eft = Conv2D(192, kernel_size=(1, 1), padding='same', activation='relu')(xdd1ef)\n",
        "xaa1eft = BatchNormalization()(xaa1eft)\n",
        "xaa2eft = Conv2D(192, kernel_size=(3, 3), padding='same', activation='relu')(xdd1ef)\n",
        "xaa2eft = BatchNormalization()(xaa2eft)\n",
        "xaa3eft = Conv2D(192, kernel_size=(5, 5), padding='same', activation='relu')(xdd1ef)\n",
        "xaa3eft = BatchNormalization()(xaa3eft)\n",
        "xaa4eft = Conv2D(192, kernel_size=(7, 7), padding='same', activation='relu')(xdd1ef)\n",
        "xaa4eft = BatchNormalization()(xaa4eft)\n",
        "xaameft = keras.layers.Maximum()([xaa1eft,xaa2eft,xaa3eft,xaa4eft])\n",
        "\n",
        "xbb1eft = Conv2D(192, kernel_size=(1, 1), padding='same', activation='relu')(xaameft)\n",
        "xbb1eft = BatchNormalization()(xbb1eft)\n",
        "xbb2eft = Conv2D(192, kernel_size=(3, 3), padding='same', activation='relu')(xaameft)\n",
        "xbb2eft = BatchNormalization()(xbb2eft)\n",
        "xbbmeft = keras.layers.Maximum()([xbb1eft,xbb2eft])\n",
        "\n",
        "xcc1eft = Conv2D(192, kernel_size=(1, 1), padding='same', activation='relu')(xbbmeft)\n",
        "xcc1eft = BatchNormalization()(xcc1eft)\n",
        "xcc2eft = Conv2D(192, kernel_size=(3, 3), padding='same', activation='relu')(xbbmeft)\n",
        "xcc2eft = BatchNormalization()(xcc2eft)\n",
        "xccmeft = keras.layers.Maximum()([xcc1eft,xcc2eft])\n",
        "\n",
        "xpp1eft = MaxPooling2D(pool_size=(3, 3), strides=(2, 2), padding='same')(xccmeft)\n",
        "xdd1eft = Dropout(drop)(xpp1eft)\n",
        "\n",
        "\n",
        "#4x4\n",
        "\n",
        "xaaa1 = Conv2D(192, kernel_size=(1, 1), padding='same', activation='relu')(xdd1eft)\n",
        "xaaa1 = BatchNormalization()(xaaa1)\n",
        "xaaa2 = Conv2D(192, kernel_size=(3, 3), padding='same', activation='relu')(xdd1eft)\n",
        "xaaa2 = BatchNormalization()(xaaa2)\n",
        "xaaa3 = Conv2D(192, kernel_size=(5, 5), padding='same', activation='relu')(xdd1eft)\n",
        "xaaa3 = BatchNormalization()(xaaa3)\n",
        "xaaam = keras.layers.Maximum()([xaaa1,xaaa2,xaaa3])\n",
        "\n",
        "xbbb1 = Conv2D(192, kernel_size=(1, 1), padding='same', activation='relu')(xaaam)\n",
        "xbbb1 = BatchNormalization()(xbbb1)\n",
        "xbbb2 = Conv2D(192, kernel_size=(3, 3), padding='same', activation='relu')(xaaam)\n",
        "xbbb2 = BatchNormalization()(xbbb2)\n",
        "xbbbm = keras.layers.Maximum()([xbbb1,xbbb2])\n",
        "\n",
        "xccc1 = Conv2D(11, kernel_size=(1, 1), padding='same', activation='relu')(xbbbm)\n",
        "xccc1 = BatchNormalization()(xccc1)\n",
        "xccc2 = Conv2D(11, kernel_size=(3, 3), padding='same', activation='relu')(xbbbm)\n",
        "xccc2 = BatchNormalization()(xccc2)\n",
        "xcccm = keras.layers.Maximum()([xccc1,xccc2])\n",
        "\n",
        "xppp1 = AveragePooling2D(pool_size=(4, 4), strides=(4, 4), padding='same')(xcccm)\n",
        "#xddd1 = Dropout(drop)(xppp1)\n",
        "\n",
        "xdff1 = Activation('softmax')(xppp1)\n",
        "xf1 = Flatten()(xdff1)\n",
        "model = Model(inputs = input_img, outputs = xf1)\n",
        "#model = multi_gpu_model(model, gpus = 4)\n",
        "model.compile(optimizer='Adam', loss='categorical_crossentropy', metrics=['acc'])\n",
        "model.summary()"
      ],
      "execution_count": 2,
      "outputs": [
        {
          "output_type": "stream",
          "text": [
            "__________________________________________________________________________________________________\n",
            "Layer (type)                    Output Shape         Param #     Connected to                     \n",
            "==================================================================================================\n",
            "input_1 (InputLayer)            (None, 32, 32, 3)    0                                            \n",
            "__________________________________________________________________________________________________\n",
            "lambda_1 (Lambda)               (None, 32, 32, 3)    0           input_1[0][0]                    \n",
            "__________________________________________________________________________________________________\n",
            "lambda_2 (Lambda)               (None, 32, 32, 3)    0           input_1[0][0]                    \n",
            "__________________________________________________________________________________________________\n",
            "lambda_3 (Lambda)               (None, 32, 32, 3)    0           input_1[0][0]                    \n",
            "__________________________________________________________________________________________________\n",
            "lambda_4 (Lambda)               (None, 32, 32, 3)    0           input_1[0][0]                    \n",
            "__________________________________________________________________________________________________\n",
            "model_1 (Model)                 (None, 11)           16018350    lambda_1[0][0]                   \n",
            "                                                                 lambda_2[0][0]                   \n",
            "                                                                 lambda_3[0][0]                   \n",
            "                                                                 lambda_4[0][0]                   \n",
            "__________________________________________________________________________________________________\n",
            "flatten_1 (Concatenate)         (None, 11)           0           model_1[1][0]                    \n",
            "                                                                 model_1[2][0]                    \n",
            "                                                                 model_1[3][0]                    \n",
            "                                                                 model_1[4][0]                    \n",
            "==================================================================================================\n",
            "Total params: 16,018,350\n",
            "Trainable params: 16,001,538\n",
            "Non-trainable params: 16,812\n",
            "__________________________________________________________________________________________________\n"
          ],
          "name": "stdout"
        }
      ]
    },
    {
      "metadata": {
        "id": "s6ajvgp_CwvX",
        "colab_type": "text"
      },
      "cell_type": "markdown",
      "source": [
        "*   [Keras Optimizers](https://keras.io/optimizers/)\n",
        "*   [Keras Loss Functions](https://keras.io/losses/)"
      ]
    },
    {
      "metadata": {
        "id": "AYdbyExtwOje",
        "colab_type": "code",
        "colab": {}
      },
      "cell_type": "code",
      "source": [
        "#this code doesn't work on local instance for some reason, but it's not mission critical so I'm just gonna run it on the k80 server\n",
        "from IPython.display import SVG\n",
        "from keras.utils.vis_utils import model_to_dot\n",
        "SVG(model_to_dot(model).create(prog='dot', format='svg'))"
      ],
      "execution_count": 0,
      "outputs": []
    },
    {
      "metadata": {
        "id": "b61YekXVBWby",
        "colab_type": "text"
      },
      "cell_type": "markdown",
      "source": [
        "Train the model\n",
        "\n",
        "*   [Training Callbacks](https://keras.io/callbacks/)\n"
      ]
    },
    {
      "metadata": {
        "id": "Gww9oWR3uVvy",
        "colab_type": "code",
        "colab": {}
      },
      "cell_type": "code",
      "source": [
        "import os\n",
        "import tensorflow as tf\n",
        "from keras.callbacks import ModelCheckpoint, ReduceLROnPlateau, EarlyStopping\n",
        "# includes the epoch in the file name. (uses `str.format`)\n",
        "checkpoint_path = \"cp-{epoch:04d}.ckpt\"\n",
        "checkpoint_dir = os.path.dirname(checkpoint_path)\n",
        "stopearly= EarlyStopping(monitor='val_acc', min_delta=0, patience=5, verbose=0, mode='auto', baseline=None, restore_best_weights=False)\n",
        "cp_callback = tf.keras.callbacks.ModelCheckpoint(\n",
        "    checkpoint_path, verbose=1, save_weights_only=True,\n",
        "    period=1)\n",
        "reduce_lr = ReduceLROnPlateau(monitor='val_loss', factor=0.2, patience=3, min_lr=0.00001, verbose=1)\n",
        "print(\"Training Progress:\")\n",
        "model_log = model.fit(X_train, y_train, batch_size=256, epochs=30, callbacks = [cp_callback, reduce_lr, stopearly], validation_data=[X_val, y_val])"
      ],
      "execution_count": 0,
      "outputs": []
    },
    {
      "metadata": {
        "id": "xs4lHfFBBYV1",
        "colab_type": "text"
      },
      "cell_type": "markdown",
      "source": [
        "Look at the training history and save the model"
      ]
    },
    {
      "metadata": {
        "id": "X-o_rPtsu5xj",
        "colab_type": "code",
        "colab": {}
      },
      "cell_type": "code",
      "source": [
        "plt.plot(model_log.history['acc'])\n",
        "plt.plot(model_log.history['val_acc'])\n",
        "plt.title('Accuracy (Higher Better)')\n",
        "plt.ylabel('Accuracy')\n",
        "plt.xlabel('Epoch')\n",
        "plt.legend(['train', 'validation'], loc='upper left')\n",
        "plt.show()\n",
        "\n",
        "plt.plot(model_log.history['loss'])\n",
        "plt.plot(model_log.history['val_loss'])\n",
        "plt.title('Loss (Lower Better)')\n",
        "plt.ylabel('Loss')\n",
        "plt.xlabel('Epoch')\n",
        "plt.legend(['train', 'validation'], loc='upper left')\n",
        "plt.show()\n",
        "\n",
        "model.save(\"model.h5\")"
      ],
      "execution_count": 0,
      "outputs": []
    },
    {
      "metadata": {
        "id": "-vN9AkrXBbwF",
        "colab_type": "text"
      },
      "cell_type": "markdown",
      "source": [
        "## Evaluation (Validation Set)"
      ]
    },
    {
      "metadata": {
        "id": "WHLbfxHJ9doM",
        "colab_type": "text"
      },
      "cell_type": "markdown",
      "source": [
        "Load best performing set"
      ]
    },
    {
      "metadata": {
        "id": "Nusw2OiG9e1V",
        "colab_type": "code",
        "outputId": "c59d907d-9ac7-4926-c754-7e753c741e1f",
        "colab": {
          "base_uri": "https://localhost:8080/",
          "height": 425
        }
      },
      "cell_type": "code",
      "source": [
        "import pathlib\n",
        "\n",
        "checkpoints = pathlib.Path(checkpoint_dir).glob(\"*.ckpt\")\n",
        "checkpoints = sorted(checkpoints, key=lambda cp:cp.stat().st_mtime)\n",
        "latest = str(checkpoints[-1])\n",
        "\n",
        "max_acc = 0\n",
        "min_loss = 999\n",
        "best_weights = \"NIL\"\n",
        "model = keras.models.load_model('model.h5')\n",
        "for weight_set in checkpoints:\n",
        "  model.load_weights(weight_set)\n",
        "  loss, acc = model.evaluate(X_val, y_val)\n",
        "  if acc > max_acc:\n",
        "    best_weights = weight_set\n",
        "    max_acc = acc\n",
        "print(\"Best Epoch: %s\"%best_weights)\n",
        "print(\"Best cross-validation loss: {:5.2f}%\".format(100*min_loss))\n",
        "\n",
        "model.load_weights(best_weights)\n",
        "model.save(\"model.h5\")"
      ],
      "execution_count": 6,
      "outputs": [
        {
          "output_type": "stream",
          "text": [
            "120878/120878 [==============================] - 159s 1ms/step\n",
            "120878/120878 [==============================] - 152s 1ms/step\n",
            "120878/120878 [==============================] - 152s 1ms/step\n",
            "120878/120878 [==============================] - 153s 1ms/step\n",
            "120878/120878 [==============================] - 152s 1ms/step\n",
            "120878/120878 [==============================] - 152s 1ms/step\n",
            "120878/120878 [==============================] - 152s 1ms/step\n",
            "120878/120878 [==============================] - 152s 1ms/step\n",
            "120878/120878 [==============================] - 152s 1ms/step\n",
            "120878/120878 [==============================] - 153s 1ms/step\n",
            "120878/120878 [==============================] - 152s 1ms/step\n",
            "120878/120878 [==============================] - 153s 1ms/step\n",
            "120878/120878 [==============================] - 152s 1ms/step\n",
            "120878/120878 [==============================] - 153s 1ms/step\n",
            "120878/120878 [==============================] - 152s 1ms/step\n",
            "120878/120878 [==============================] - 153s 1ms/step\n",
            "120878/120878 [==============================] - 152s 1ms/step\n",
            "120878/120878 [==============================] - 153s 1ms/step\n",
            "120878/120878 [==============================] - 152s 1ms/step\n",
            "120878/120878 [==============================] - 153s 1ms/step\n",
            "120878/120878 [==============================] - 152s 1ms/step\n",
            "120878/120878 [==============================] - 153s 1ms/step\n",
            "Best Epoch: cp-0015.ckpt\n",
            "Best cross-validation loss:  5.74%\n"
          ],
          "name": "stdout"
        }
      ]
    },
    {
      "metadata": {
        "id": "An3kbc35DPZb",
        "colab_type": "text"
      },
      "cell_type": "markdown",
      "source": [
        "# Running on the Test Set"
      ]
    },
    {
      "metadata": {
        "id": "4xWt_ODkD3_K",
        "colab_type": "code",
        "colab": {}
      },
      "cell_type": "code",
      "source": [
        "# load Keras model from file\n",
        "\n",
        "from keras.models import load_model\n",
        "\n",
        "model = load_model(\"model.h5\")\n",
        "\n",
        "classes = [\"1\", \"2\", \"3\", \"4\", \"5\", \"6\", \"7\", \"8\", \"9\", \"10\"]"
      ],
      "execution_count": 0,
      "outputs": []
    },
    {
      "metadata": {
        "id": "g73EAQ46DRjd",
        "colab_type": "code",
        "outputId": "4e862e11-4af4-4941-d5cf-43e3d7d7a298",
        "colab": {
          "base_uri": "https://localhost:8080/",
          "height": 85
        }
      },
      "cell_type": "code",
      "source": [
        "from sklearn.metrics import accuracy_score\n",
        "\n",
        "test_array = scipy.io.loadmat(test_mat)\n",
        "num_images_test = test_array[\"X\"].shape[-1]\n",
        "print(test_array.keys())\n",
        "\n",
        "print(\"Test set has the following shape:\")\n",
        "test_array[\"X\"].shape, test_array[\"y\"].shape\n",
        "\n",
        "test_labels = test_array[\"y\"].reshape((num_images_test))\n",
        "test_images = []\n",
        "\n",
        "for i in range(num_images_test):\n",
        "    image = test_array[\"X\"][:,:,:,i].reshape((32,32,3))\n",
        "    test_images.append(image)\n",
        "    \n",
        "test_labels = np.asarray(test_labels, dtype='int32')\n",
        "test_images = np.asarray(test_images)\n",
        "\n",
        "print(\"test_images:\", test_images.shape)\n",
        "\n",
        "test_labels = to_categorical(test_labels)\n",
        "\n",
        "test_labels_index = np.argmax(test_labels, axis=1)\n",
        "test_preds = model.predict(test_images)\n",
        "test_preds_class = np.argmax(test_preds,axis=1)\n",
        "print(\"Test set accuracy score:\", accuracy_score(test_labels_index, test_preds_class))"
      ],
      "execution_count": 5,
      "outputs": [
        {
          "output_type": "stream",
          "text": [
            "dict_keys(['X', '__header__', 'y', '__version__', '__globals__'])\n",
            "Test set has the following shape:\n",
            "test_images: (26032, 32, 32, 3)\n",
            "Test set accuracy score: 0.9816379840196681\n"
          ],
          "name": "stdout"
        }
      ]
    },
    {
      "metadata": {
        "id": "U1W8LtMKtQhU",
        "colab_type": "text"
      },
      "cell_type": "markdown",
      "source": [
        "LOAD PRETRAINED MODEL AND WEIGHTS"
      ]
    },
    {
      "metadata": {
        "id": "l8yf78BKn-95",
        "colab_type": "code",
        "colab": {}
      },
      "cell_type": "code",
      "source": [
        "from keras.models import load_model\n",
        "model_pretrained = keras.utils.get_file(\"model_pretrained.h5\",\"https://drive.google.com/uc?export=download&id=1VCAer6P9dJcWGGnJqQEtX73Bkl0soJ1w\")\n",
        "weights_pretrained = keras.utils.get_file(\"weights_pretrained.ckpt\",\"https://drive.google.com/uc?export=download&id=1_aQn2_XqjKiOy7iOvj-2tRmj40EKYvq8\")\n",
        "model.load_weights(weights_pretrained)\n",
        "model.save(\"model.h5\")\n",
        "model = load_model(\"model.h5\")\n",
        "classes = [\"1\", \"2\", \"3\", \"4\", \"5\", \"6\", \"7\", \"8\", \"9\", \"10\"]\n",
        "#model = model_pretrained\n"
      ],
      "execution_count": 0,
      "outputs": []
    }
  ]
}